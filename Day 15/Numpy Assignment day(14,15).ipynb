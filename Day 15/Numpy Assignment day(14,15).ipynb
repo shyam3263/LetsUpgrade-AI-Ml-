{
 "cells": [
  {
   "cell_type": "code",
   "execution_count": 140,
   "metadata": {
    "ExecuteTime": {
     "end_time": "2020-07-25T14:01:50.375600Z",
     "start_time": "2020-07-25T14:01:41.964010Z"
    }
   },
   "outputs": [],
   "source": [
    "import numpy as np\n",
    "import pandas as pd "
   ]
  },
  {
   "cell_type": "markdown",
   "metadata": {},
   "source": [
    "# 1. Create a 3x3x3 array with random values "
   ]
  },
  {
   "cell_type": "code",
   "execution_count": 9,
   "metadata": {
    "ExecuteTime": {
     "end_time": "2020-07-25T12:18:56.772784Z",
     "start_time": "2020-07-25T12:18:56.748779Z"
    }
   },
   "outputs": [
    {
     "data": {
      "text/plain": [
       "array([[[26, 13, 54],\n",
       "        [81, 38, 32],\n",
       "        [54, 75, 15]],\n",
       "\n",
       "       [[90, 18, 48],\n",
       "        [42, 65, 57],\n",
       "        [43, 10, 34]],\n",
       "\n",
       "       [[51, 59, 79],\n",
       "        [21, 56, 97],\n",
       "        [12, 38, 68]]])"
      ]
     },
     "execution_count": 9,
     "metadata": {},
     "output_type": "execute_result"
    }
   ],
   "source": [
    "np.random.randint(100,size=(3,3,3))"
   ]
  },
  {
   "cell_type": "markdown",
   "metadata": {},
   "source": [
    "# 2.Create a 5x5 matrix with values 1,2,3,4 just below the diagonal"
   ]
  },
  {
   "cell_type": "code",
   "execution_count": 14,
   "metadata": {
    "ExecuteTime": {
     "end_time": "2020-07-25T12:25:30.663182Z",
     "start_time": "2020-07-25T12:25:30.639172Z"
    }
   },
   "outputs": [
    {
     "data": {
      "text/plain": [
       "array([[0, 0, 0, 0, 0],\n",
       "       [4, 0, 0, 0, 0],\n",
       "       [4, 1, 0, 0, 0],\n",
       "       [2, 1, 4, 0, 0],\n",
       "       [3, 3, 2, 2, 0]])"
      ]
     },
     "execution_count": 14,
     "metadata": {},
     "output_type": "execute_result"
    }
   ],
   "source": [
    "mat = np.random.randint(low=1,high=5,size=(5,5))\n",
    "lower_mat = np.tril(mat,k=-1)\n",
    "lower_mat"
   ]
  },
  {
   "cell_type": "markdown",
   "metadata": {},
   "source": [
    "# 3.Create a 8x8 matrix and fill it with a checkerboard pattern"
   ]
  },
  {
   "cell_type": "code",
   "execution_count": 19,
   "metadata": {
    "ExecuteTime": {
     "end_time": "2020-07-25T12:36:03.780625Z",
     "start_time": "2020-07-25T12:36:03.748621Z"
    }
   },
   "outputs": [
    {
     "data": {
      "text/plain": [
       "array([[0, 1, 0, 1, 0, 1, 0, 1],\n",
       "       [1, 0, 1, 0, 1, 0, 1, 0],\n",
       "       [0, 1, 0, 1, 0, 1, 0, 1],\n",
       "       [1, 0, 1, 0, 1, 0, 1, 0],\n",
       "       [0, 1, 0, 1, 0, 1, 0, 1],\n",
       "       [1, 0, 1, 0, 1, 0, 1, 0],\n",
       "       [0, 1, 0, 1, 0, 1, 0, 1],\n",
       "       [1, 0, 1, 0, 1, 0, 1, 0]])"
      ]
     },
     "execution_count": 19,
     "metadata": {},
     "output_type": "execute_result"
    }
   ],
   "source": [
    "zeros = np.zeros((8,8),dtype=int)\n",
    "zeros[1::2,::2] = 1 \n",
    "zeros[::2,1::2] = 1\n",
    "zeros\n"
   ]
  },
  {
   "cell_type": "markdown",
   "metadata": {},
   "source": [
    "# 4. Normalize a 5x5 random matrix"
   ]
  },
  {
   "cell_type": "code",
   "execution_count": 24,
   "metadata": {
    "ExecuteTime": {
     "end_time": "2020-07-25T12:48:03.020943Z",
     "start_time": "2020-07-25T12:48:02.932931Z"
    }
   },
   "outputs": [
    {
     "name": "stdout",
     "output_type": "stream",
     "text": [
      "Before Normalize \n",
      "[[0.046192   0.78559444 0.06407334 0.75994301 0.05787809]\n",
      " [0.07130304 0.69568445 0.34128239 0.49245611 0.20743776]\n",
      " [0.41712211 0.75208476 0.62455429 0.70271736 0.33703484]\n",
      " [0.67716292 0.69608421 0.7133886  0.09619699 0.4649245 ]\n",
      " [0.57097349 0.36351609 0.61984574 0.06641267 0.63185123]]\n",
      "After Normalize:\n",
      "[[0.         1.         0.02418351 0.9653079  0.01580478]\n",
      " [0.03396127 0.87840182 0.39909307 0.60354698 0.21807578]\n",
      " [0.50166201 0.95468005 0.7822023  0.88791343 0.3933485 ]\n",
      " [0.85335249 0.87894247 0.90234568 0.06762893 0.56631203]\n",
      " [0.7097373  0.42916289 0.77583426 0.02734732 0.792071  ]]\n"
     ]
    }
   ],
   "source": [
    "mt = np.random.random(size=(5,5))\n",
    "print(\"Before Normalize \")\n",
    "print(mt)\n",
    "\n",
    "print('After Normalize:')\n",
    "mt_min, mt_max = mt.min(), mt.max()\n",
    "\n",
    "mt = (mt - mt_min)/(mt_max - mt_min)\n",
    "print(mt)"
   ]
  },
  {
   "cell_type": "markdown",
   "metadata": {},
   "source": [
    "# 5.  How to find common values between two arrays?"
   ]
  },
  {
   "cell_type": "code",
   "execution_count": 32,
   "metadata": {
    "ExecuteTime": {
     "end_time": "2020-07-25T12:57:36.017824Z",
     "start_time": "2020-07-25T12:57:35.993819Z"
    }
   },
   "outputs": [
    {
     "name": "stdout",
     "output_type": "stream",
     "text": [
      "Matrix :A [4 5 3 9 4 7 3 2 4 6]\n",
      "Matrix :B [5 7 9 3 5 8 6 0 2 2]\n",
      "Common values: [2 3 5 6 7 9]\n"
     ]
    }
   ],
   "source": [
    "a = np.random.randint(10,size=(10))\n",
    "b = np.random.randint(10,size=(10))\n",
    "print('Matrix :A',a)\n",
    "print('Matrix :B',b)\n",
    "print('Common values:',np.intersect1d(a,b))"
   ]
  },
  {
   "cell_type": "markdown",
   "metadata": {},
   "source": [
    "# 6.How to get the dates of yesterday, today and tomorrow?"
   ]
  },
  {
   "cell_type": "code",
   "execution_count": 34,
   "metadata": {
    "ExecuteTime": {
     "end_time": "2020-07-25T13:00:07.872716Z",
     "start_time": "2020-07-25T13:00:07.856710Z"
    }
   },
   "outputs": [
    {
     "name": "stdout",
     "output_type": "stream",
     "text": [
      "Yestraday:  2020-07-24\n",
      "Today    :  2020-07-25\n",
      "Tomorrow :  2020-07-26\n"
     ]
    }
   ],
   "source": [
    "import numpy as np\n",
    "yesterday_date = np.datetime64('today', 'D') - np.timedelta64(1, 'D')\n",
    "print(\"Yestraday: \",yesterday_date)\n",
    "today_date = np.datetime64('today', 'D')\n",
    "print(\"Today    : \",today_date)\n",
    "tomorrow_date = np.datetime64('today', 'D') + np.timedelta64(1, 'D')\n",
    "print(\"Tomorrow : \",tomorrow_date)"
   ]
  },
  {
   "cell_type": "markdown",
   "metadata": {},
   "source": [
    "# 7. Consider two random array A and B, check if they are equal"
   ]
  },
  {
   "cell_type": "code",
   "execution_count": 48,
   "metadata": {
    "ExecuteTime": {
     "end_time": "2020-07-25T13:06:49.895287Z",
     "start_time": "2020-07-25T13:06:49.871286Z"
    }
   },
   "outputs": [
    {
     "name": "stdout",
     "output_type": "stream",
     "text": [
      "A\n",
      "[[0.79893585 0.3555471 ]\n",
      " [0.11886578 0.38367693]]\n",
      "B\n",
      "[[0.86534806 0.18553127]\n",
      " [0.94586103 0.91909319]]\n",
      "\n",
      "A and B Matrix are Not equal\n"
     ]
    }
   ],
   "source": [
    "A = np.random.random((2, 2))\n",
    "B = np.random.random((2, 2))\n",
    "print(\"A\")\n",
    "print(A)\n",
    "print(\"B\")\n",
    "print(B)\n",
    "check_equal = np.allclose(A, B)\n",
    "if check_equal == True:\n",
    "    print(\"\\nA and B Matrix are equal\")\n",
    "else:\n",
    "    print(\"\\nA and B Matrix are Not equal\")"
   ]
  },
  {
   "cell_type": "markdown",
   "metadata": {},
   "source": [
    "# 8.Create random vector of size 10 and replace the maximum value by 0 "
   ]
  },
  {
   "cell_type": "code",
   "execution_count": 83,
   "metadata": {
    "ExecuteTime": {
     "end_time": "2020-07-25T13:37:04.427300Z",
     "start_time": "2020-07-25T13:37:04.403299Z"
    }
   },
   "outputs": [
    {
     "name": "stdout",
     "output_type": "stream",
     "text": [
      "Random Matrix\n",
      "[4 0 7 4 9 0 9 5 0 2]\n",
      "After Replacing Max value by 0\n",
      "Maximum value : 9\n",
      "[4 0 7 4 0 0 0 5 0 2]\n"
     ]
    }
   ],
   "source": [
    "mat = np.random.randint(10,size=(10))\n",
    "print(\"Random Matrix\")\n",
    "print(mat)\n",
    "print(\"After Replacing Max value by 0\")\n",
    "print(\"Maximum value :\",np.amax(mat))\n",
    "print(np.where(mat ==np.amax(mat),0,mat))"
   ]
  },
  {
   "cell_type": "markdown",
   "metadata": {},
   "source": [
    "# 9. How to print all the values of an array?"
   ]
  },
  {
   "cell_type": "code",
   "execution_count": 139,
   "metadata": {
    "ExecuteTime": {
     "end_time": "2020-07-25T14:00:32.507949Z",
     "start_time": "2020-07-25T14:00:32.490942Z"
    }
   },
   "outputs": [
    {
     "name": "stdout",
     "output_type": "stream",
     "text": [
      "[[4 6 6 6]\n",
      " [0 0 7 6]\n",
      " [9 1 7 3]\n",
      " [1 5 9 0]]\n",
      "\\\\ All Values of array //\n",
      "4 6 6 6 0 0 7 6 9 1 7 3 1 5 9 0 "
     ]
    }
   ],
   "source": [
    "arr = np.random.randint(10,size=(4,4))\n",
    "print(arr)\n",
    "print(\"\\\\\\ All Values of array //\")\n",
    "for i in range(0,len(arr)):\n",
    "    for j in range(arr.shape[1]):\n",
    "        print(arr[i][j],end=' ')"
   ]
  },
  {
   "cell_type": "markdown",
   "metadata": {},
   "source": [
    "# 10.Subtract the mean of each row of a matrix"
   ]
  },
  {
   "cell_type": "code",
   "execution_count": 167,
   "metadata": {
    "ExecuteTime": {
     "end_time": "2020-07-25T14:18:43.414100Z",
     "start_time": "2020-07-25T14:18:43.402095Z"
    }
   },
   "outputs": [
    {
     "name": "stdout",
     "output_type": "stream",
     "text": [
      "Original matrix:\n",
      "\n",
      "[[0 3]\n",
      " [7 1]]\n",
      "\n",
      "Subtract the mean of each row:\n",
      "\n",
      "[[-1.5  1.5]\n",
      " [ 3.  -3. ]]\n"
     ]
    }
   ],
   "source": [
    "print(\"Original matrix:\\n\")\n",
    "mat = np.random.randint(10,size=(2,2))\n",
    "print(mat)\n",
    "print(\"\\nSubtract the mean of each row:\\n\")\n",
    "sub = mat - mat.mean(axis=1, keepdims=True)\n",
    "print(sub)"
   ]
  },
  {
   "cell_type": "markdown",
   "metadata": {},
   "source": [
    "# 11.Consider a given vector, how to add 1 to each element indexed by a second vector (be careful with repeated indices)? "
   ]
  },
  {
   "cell_type": "code",
   "execution_count": 171,
   "metadata": {
    "ExecuteTime": {
     "end_time": "2020-07-25T14:22:27.420061Z",
     "start_time": "2020-07-25T14:22:27.410058Z"
    }
   },
   "outputs": [
    {
     "name": "stdout",
     "output_type": "stream",
     "text": [
      "[2. 5. 3. 2. 5. 4. 1. 1. 2. 5.]\n"
     ]
    }
   ],
   "source": [
    "a = np.ones(10)\n",
    "b = np.random.randint(0,len(a),20)\n",
    "a += np.bincount(b, minlength=len(a))\n",
    "print(a)"
   ]
  },
  {
   "cell_type": "markdown",
   "metadata": {},
   "source": [
    "# 12.How to get the diagonal of a dot product?"
   ]
  },
  {
   "cell_type": "code",
   "execution_count": 179,
   "metadata": {
    "ExecuteTime": {
     "end_time": "2020-07-25T14:25:35.513352Z",
     "start_time": "2020-07-25T14:25:35.500347Z"
    }
   },
   "outputs": [
    {
     "name": "stdout",
     "output_type": "stream",
     "text": [
      "Dot product Matrix \n",
      "\n",
      "[[64 64 76]\n",
      " [43 40 49]\n",
      " [16 18 22]]\n",
      "\n",
      "Diagonal\n",
      "\n",
      "[64 40 22]\n"
     ]
    }
   ],
   "source": [
    "A = np.random.randint(0,10,(3,3))\n",
    "B= np.random.randint(0,10,(3,3))\n",
    "ab = np.dot(A, B)\n",
    "print(\"Dot product Matrix \\n\")\n",
    "print(ab)\n",
    "print()\n",
    "print(\"Diagonal\\n\")\n",
    "print(np.diag(ab))"
   ]
  },
  {
   "cell_type": "markdown",
   "metadata": {},
   "source": [
    "# 13.How to find the most frequent value in an array?"
   ]
  },
  {
   "cell_type": "code",
   "execution_count": 192,
   "metadata": {
    "ExecuteTime": {
     "end_time": "2020-07-25T14:28:34.096515Z",
     "start_time": "2020-07-25T14:28:34.085511Z"
    }
   },
   "outputs": [
    {
     "name": "stdout",
     "output_type": "stream",
     "text": [
      "[58 28 62 13 53 54 43 73 78 49 91 77 93 27 36 39 21 64 77 11 35 85 96 82\n",
      " 34 87 96 98  1 91 22 56  4 74 91 80 66 91 16 28 57 75 64 69  0 48  0 85\n",
      " 15 50 63 76 92 92 50 50 65 33 16 36 90 68 16 88 30 54 55 96 93 50  1 80\n",
      " 96 97 69 19 38 89 53 81 81  6 43 94 85 93 81 93 74 28 93 44 16 83 15 30\n",
      " 25 39 70 92]\n",
      "Frequent Number: 93\n"
     ]
    }
   ],
   "source": [
    "m = np.random.randint(0,100,100)\n",
    "print (m)\n",
    "print('Frequent Number:', np.bincount(m).argmax())"
   ]
  },
  {
   "cell_type": "markdown",
   "metadata": {},
   "source": [
    "# 14.How to get the n largest values of an array"
   ]
  },
  {
   "cell_type": "code",
   "execution_count": 196,
   "metadata": {
    "ExecuteTime": {
     "end_time": "2020-07-25T14:30:47.633004Z",
     "start_time": "2020-07-25T14:30:47.622000Z"
    }
   },
   "outputs": [
    {
     "name": "stdout",
     "output_type": "stream",
     "text": [
      "[9999 9995 9998 9993 9992 9997 9996 9994 9991 9990]\n"
     ]
    }
   ],
   "source": [
    "Z = np.arange(10000)\n",
    "np.random.shuffle(Z)\n",
    "n = 10\n",
    "# Fast\n",
    "print (Z[np.argpartition(-Z,n)[:n]])"
   ]
  },
  {
   "cell_type": "markdown",
   "metadata": {},
   "source": [
    "# 15.How to create a record array from a regular array?"
   ]
  },
  {
   "cell_type": "code",
   "execution_count": 200,
   "metadata": {
    "ExecuteTime": {
     "end_time": "2020-07-25T14:31:56.191351Z",
     "start_time": "2020-07-25T14:31:56.178346Z"
    }
   },
   "outputs": [
    {
     "data": {
      "text/plain": [
       "rec.array([(b'python', 2.5, 3), (b'hacker', 3.6, 2)],\n",
       "          dtype=[('col1', 'S8'), ('col2', '<f8'), ('col3', '<i8')])"
      ]
     },
     "execution_count": 200,
     "metadata": {},
     "output_type": "execute_result"
    }
   ],
   "source": [
    "a = np.array([(\"python\", 2.5, 3),\n",
    "              (\"hacker\", 3.6, 2)])\n",
    "b = np.core.records.fromarrays(a.T,\n",
    "                               names='col1, col2, col3',\n",
    "                               formats = 'S8, f8, i8')\n",
    "b"
   ]
  }
 ],
 "metadata": {
  "hide_input": false,
  "kernelspec": {
   "display_name": "Python 3",
   "language": "python",
   "name": "python3"
  },
  "language_info": {
   "codemirror_mode": {
    "name": "ipython",
    "version": 3
   },
   "file_extension": ".py",
   "mimetype": "text/x-python",
   "name": "python",
   "nbconvert_exporter": "python",
   "pygments_lexer": "ipython3",
   "version": "3.7.6"
  },
  "toc": {
   "base_numbering": 1,
   "nav_menu": {},
   "number_sections": true,
   "sideBar": true,
   "skip_h1_title": false,
   "title_cell": "Table of Contents",
   "title_sidebar": "Contents",
   "toc_cell": false,
   "toc_position": {},
   "toc_section_display": true,
   "toc_window_display": false
  },
  "varInspector": {
   "cols": {
    "lenName": 16,
    "lenType": 16,
    "lenVar": 40
   },
   "kernels_config": {
    "python": {
     "delete_cmd_postfix": "",
     "delete_cmd_prefix": "del ",
     "library": "var_list.py",
     "varRefreshCmd": "print(var_dic_list())"
    },
    "r": {
     "delete_cmd_postfix": ") ",
     "delete_cmd_prefix": "rm(",
     "library": "var_list.r",
     "varRefreshCmd": "cat(var_dic_list()) "
    }
   },
   "types_to_exclude": [
    "module",
    "function",
    "builtin_function_or_method",
    "instance",
    "_Feature"
   ],
   "window_display": false
  }
 },
 "nbformat": 4,
 "nbformat_minor": 2
}
