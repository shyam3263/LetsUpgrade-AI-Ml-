{
 "cells": [
  {
   "cell_type": "markdown",
   "metadata": {},
   "source": [
    "## Question 1 :Research on whether addition, subtraction, multiplication, division, floor division and modulo operations be performed on complex numbers. Based on your study, implement a Python program to demonstrate these operations."
   ]
  },
  {
   "cell_type": "code",
   "execution_count": 8,
   "metadata": {
    "ExecuteTime": {
     "end_time": "2020-07-10T02:25:07.053989Z",
     "start_time": "2020-07-10T02:25:07.037483Z"
    }
   },
   "outputs": [
    {
     "name": "stdout",
     "output_type": "stream",
     "text": [
      "Additoin of (5+3j) and (2+1j) :  (7+4j)\n"
     ]
    }
   ],
   "source": [
    "# Addintion\n",
    "\n",
    "x1 = (5+3j)\n",
    "x2 = (2+1j)\n",
    "\n",
    "print(f'Additoin of {x1} and {x2} : ', (x1 + x2))"
   ]
  },
  {
   "cell_type": "code",
   "execution_count": 9,
   "metadata": {
    "ExecuteTime": {
     "end_time": "2020-07-10T02:26:07.334971Z",
     "start_time": "2020-07-10T02:26:07.317466Z"
    }
   },
   "outputs": [
    {
     "name": "stdout",
     "output_type": "stream",
     "text": [
      "Subtraction of (9-2j) and (5+4j) :  (4-6j)\n"
     ]
    }
   ],
   "source": [
    "# Subtraction\n",
    "\n",
    "x1 = (9-2j)\n",
    "x2 = (5+4j)\n",
    "\n",
    "print(f'Subtraction of {x1} and {x2} : ', (x1 - x2))"
   ]
  },
  {
   "cell_type": "code",
   "execution_count": 10,
   "metadata": {
    "ExecuteTime": {
     "end_time": "2020-07-10T02:27:14.261988Z",
     "start_time": "2020-07-10T02:27:14.246985Z"
    }
   },
   "outputs": [
    {
     "name": "stdout",
     "output_type": "stream",
     "text": [
      "Division of (5+7j) and (1+9j) :  (0.8292682926829268-0.4634146341463415j)\n"
     ]
    }
   ],
   "source": [
    "# Division\n",
    "\n",
    "x1 = (5+7j)\n",
    "x2 = (1+9j)\n",
    "\n",
    "print(f'Division of {x1} and {x2} : ', (x1 / x2))"
   ]
  },
  {
   "cell_type": "code",
   "execution_count": 11,
   "metadata": {
    "ExecuteTime": {
     "end_time": "2020-07-10T02:28:16.127937Z",
     "start_time": "2020-07-10T02:28:16.103429Z"
    }
   },
   "outputs": [
    {
     "ename": "TypeError",
     "evalue": "can't take floor of complex number.",
     "output_type": "error",
     "traceback": [
      "\u001b[1;31m---------------------------------------------------------------------------\u001b[0m",
      "\u001b[1;31mTypeError\u001b[0m                                 Traceback (most recent call last)",
      "\u001b[1;32m<ipython-input-11-0ba13be44bb2>\u001b[0m in \u001b[0;36m<module>\u001b[1;34m\u001b[0m\n\u001b[0;32m      4\u001b[0m \u001b[0mx2\u001b[0m \u001b[1;33m=\u001b[0m \u001b[1;33m(\u001b[0m\u001b[1;36m4\u001b[0m\u001b[1;33m-\u001b[0m\u001b[1;36m5j\u001b[0m\u001b[1;33m)\u001b[0m\u001b[1;33m\u001b[0m\u001b[1;33m\u001b[0m\u001b[0m\n\u001b[0;32m      5\u001b[0m \u001b[1;33m\u001b[0m\u001b[0m\n\u001b[1;32m----> 6\u001b[1;33m \u001b[0mprint\u001b[0m\u001b[1;33m(\u001b[0m\u001b[1;34mf'floor Division of {x1} and {x2} : '\u001b[0m\u001b[1;33m,\u001b[0m \u001b[1;33m(\u001b[0m\u001b[0mx1\u001b[0m \u001b[1;33m//\u001b[0m \u001b[0mx2\u001b[0m\u001b[1;33m)\u001b[0m\u001b[1;33m)\u001b[0m\u001b[1;33m\u001b[0m\u001b[1;33m\u001b[0m\u001b[0m\n\u001b[0m",
      "\u001b[1;31mTypeError\u001b[0m: can't take floor of complex number."
     ]
    }
   ],
   "source": [
    "# floor Division\n",
    "\n",
    "x1 = (4+6j)\n",
    "x2 = (4-5j)\n",
    "\n",
    "print(f'floor Division of {x1} and {x2} : ', (x1 // x2))"
   ]
  },
  {
   "cell_type": "code",
   "execution_count": 12,
   "metadata": {
    "ExecuteTime": {
     "end_time": "2020-07-10T02:30:20.282292Z",
     "start_time": "2020-07-10T02:30:20.250786Z"
    }
   },
   "outputs": [
    {
     "ename": "TypeError",
     "evalue": "can't mod complex numbers.",
     "output_type": "error",
     "traceback": [
      "\u001b[1;31m---------------------------------------------------------------------------\u001b[0m",
      "\u001b[1;31mTypeError\u001b[0m                                 Traceback (most recent call last)",
      "\u001b[1;32m<ipython-input-12-4f0142807338>\u001b[0m in \u001b[0;36m<module>\u001b[1;34m\u001b[0m\n\u001b[0;32m      4\u001b[0m \u001b[0mx2\u001b[0m \u001b[1;33m=\u001b[0m \u001b[1;33m(\u001b[0m\u001b[1;36m1\u001b[0m\u001b[1;33m+\u001b[0m\u001b[1;36m2j\u001b[0m\u001b[1;33m)\u001b[0m\u001b[1;33m\u001b[0m\u001b[1;33m\u001b[0m\u001b[0m\n\u001b[0;32m      5\u001b[0m \u001b[1;33m\u001b[0m\u001b[0m\n\u001b[1;32m----> 6\u001b[1;33m \u001b[0mprint\u001b[0m\u001b[1;33m(\u001b[0m\u001b[1;34mf'Modulpus of {x1} and {x2} : '\u001b[0m\u001b[1;33m,\u001b[0m \u001b[1;33m(\u001b[0m\u001b[0mx1\u001b[0m \u001b[1;33m%\u001b[0m \u001b[0mx2\u001b[0m\u001b[1;33m)\u001b[0m\u001b[1;33m)\u001b[0m\u001b[1;33m\u001b[0m\u001b[1;33m\u001b[0m\u001b[0m\n\u001b[0m",
      "\u001b[1;31mTypeError\u001b[0m: can't mod complex numbers."
     ]
    }
   ],
   "source": [
    "# modulo operations\n",
    "\n",
    "x1 = (4-3j)\n",
    "x2 = (1+2j)\n",
    "\n",
    "print(f'Modulpus of {x1} and {x2} : ', (x1 % x2))"
   ]
  },
  {
   "cell_type": "code",
   "execution_count": 14,
   "metadata": {
    "ExecuteTime": {
     "end_time": "2020-07-10T02:31:57.175609Z",
     "start_time": "2020-07-10T02:31:57.160104Z"
    }
   },
   "outputs": [
    {
     "name": "stdout",
     "output_type": "stream",
     "text": [
      "Multiplication of (1-2j) and (3-5j) :  (-7-11j)\n"
     ]
    }
   ],
   "source": [
    "# Mulplication\n",
    "\n",
    "x1 = (1-2j)\n",
    "x2 = (3-5j)\n",
    "\n",
    "print(f'Multiplication of {x1} and {x2} : ',(x1 * x2))"
   ]
  },
  {
   "cell_type": "code",
   "execution_count": 15,
   "metadata": {
    "ExecuteTime": {
     "end_time": "2020-07-10T02:34:07.565598Z",
     "start_time": "2020-07-10T02:34:07.545094Z"
    }
   },
   "outputs": [
    {
     "name": "stdout",
     "output_type": "stream",
     "text": [
      "Additoin of (5-3j) and (3+7j) :  (8+4j)\n",
      "Subtraction of (5-3j) and (3+7j) :  (2-10j)\n",
      "Multiplication of (5-3j) and (3+7j) :  (36+26j)\n",
      "Division of (5-3j) and (3+7j) :  (-0.10344827586206899-0.7586206896551725j)\n"
     ]
    }
   ],
   "source": [
    "x1 = (5-3j)\n",
    "x2 = (3+7j)\n",
    "\n",
    "print(f'Additoin of {x1} and {x2} : ', (x1 + x2))\n",
    "print(f'Subtraction of {x1} and {x2} : ', (x1 - x2))\n",
    "print(f'Multiplication of {x1} and {x2} : ',(x1 * x2))\n",
    "print(f'Division of {x1} and {x2} : ', (x1 / x2))"
   ]
  },
  {
   "cell_type": "markdown",
   "metadata": {},
   "source": [
    "## Question 2 : Research on range() functions and its parameters. Create a markdown cell and write in your own words (no copy-paste from google please) what you understand about it. Implement a small program of your choice on the same."
   ]
  },
  {
   "cell_type": "markdown",
   "metadata": {
    "heading_collapsed": true
   },
   "source": [
    "### Range()\n",
    "\n",
    "> 1. range() is a Python In-built function.\n",
    "> 2. It's used to generate a sequence of Numbers.\n",
    "> 3. this function used in Looping system\n",
    "\n",
    "**Syntax**\n",
    "> range(start, stop, step)\n",
    "* start: optional-Integer specify from which number to start.Starting from zero(0) by default.\n",
    "* stop:  required-Integer specify which number to stop. (Not include)\n",
    "* step:  Optional-Integer number for incrementation."
   ]
  },
  {
   "cell_type": "markdown",
   "metadata": {},
   "source": [
    "## Question 3:Consider two numbers. Perform their subtraction and if the result of subtraction is greater than 25, print their multiplication result else print their division result."
   ]
  },
  {
   "cell_type": "code",
   "execution_count": 16,
   "metadata": {
    "ExecuteTime": {
     "end_time": "2020-07-10T02:47:38.662828Z",
     "start_time": "2020-07-10T02:47:38.646825Z"
    }
   },
   "outputs": [
    {
     "name": "stdout",
     "output_type": "stream",
     "text": [
      "Multiplication :  7437\n"
     ]
    }
   ],
   "source": [
    "y = 111\n",
    "z = 67\n",
    "sub = y - z\n",
    "\n",
    "if sub > 25 :\n",
    "    print(\"Multiplication : \", y * z)\n",
    "\n",
    "else:\n",
    "    print(\"Division : \", y / z)"
   ]
  },
  {
   "cell_type": "markdown",
   "metadata": {},
   "source": [
    "## Question 4: Consider a list of 10 elements of integer values. If the number in the list is divisible by 2, print the result as \"square of that number minus 2\"."
   ]
  },
  {
   "cell_type": "code",
   "execution_count": 18,
   "metadata": {
    "ExecuteTime": {
     "end_time": "2020-07-10T02:51:24.505816Z",
     "start_time": "2020-07-10T02:51:24.489314Z"
    }
   },
   "outputs": [
    {
     "name": "stdout",
     "output_type": "stream",
     "text": [
      "1022\n",
      "2\n",
      "133954\n",
      "3134\n",
      "98\n",
      "142\n"
     ]
    }
   ],
   "source": [
    "listy = [32,2,191,366,13,56,10,7,15,12]\n",
    "for num in listy:\n",
    "    if num%2 == 0:\n",
    "        print(num**2-2)"
   ]
  },
  {
   "cell_type": "markdown",
   "metadata": {
    "ExecuteTime": {
     "end_time": "2020-07-10T02:18:02.028968Z",
     "start_time": "2020-07-10T02:18:02.019459Z"
    }
   },
   "source": [
    "## Question 5: Consider a list of 10 elements. Print all the elements in the list which are greater than 7 when that number is divided 2."
   ]
  },
  {
   "cell_type": "code",
   "execution_count": 1,
   "metadata": {
    "ExecuteTime": {
     "end_time": "2020-07-26T12:48:12.047218Z",
     "start_time": "2020-07-26T12:48:12.035249Z"
    }
   },
   "outputs": [
    {
     "name": "stdout",
     "output_type": "stream",
     "text": [
      "12\n",
      "66\n",
      "8\n",
      "84\n"
     ]
    }
   ],
   "source": [
    "listty = [12,43,1,66,1,9,8,2,4,84]\n",
    "for n in listty:\n",
    "    if n%2 == 0 and n > 7:\n",
    "            print(n)"
   ]
  }
 ],
 "metadata": {
  "hide_input": false,
  "kernelspec": {
   "display_name": "Python 3",
   "language": "python",
   "name": "python3"
  },
  "language_info": {
   "codemirror_mode": {
    "name": "ipython",
    "version": 3
   },
   "file_extension": ".py",
   "mimetype": "text/x-python",
   "name": "python",
   "nbconvert_exporter": "python",
   "pygments_lexer": "ipython3",
   "version": "3.7.6"
  },
  "toc": {
   "base_numbering": 1,
   "nav_menu": {},
   "number_sections": false,
   "sideBar": true,
   "skip_h1_title": false,
   "title_cell": "Table of Contents",
   "title_sidebar": "Contents",
   "toc_cell": false,
   "toc_position": {},
   "toc_section_display": true,
   "toc_window_display": false
  },
  "varInspector": {
   "cols": {
    "lenName": 16,
    "lenType": 16,
    "lenVar": 40
   },
   "kernels_config": {
    "python": {
     "delete_cmd_postfix": "",
     "delete_cmd_prefix": "del ",
     "library": "var_list.py",
     "varRefreshCmd": "print(var_dic_list())"
    },
    "r": {
     "delete_cmd_postfix": ") ",
     "delete_cmd_prefix": "rm(",
     "library": "var_list.r",
     "varRefreshCmd": "cat(var_dic_list()) "
    }
   },
   "types_to_exclude": [
    "module",
    "function",
    "builtin_function_or_method",
    "instance",
    "_Feature"
   ],
   "window_display": false
  }
 },
 "nbformat": 4,
 "nbformat_minor": 4
}
