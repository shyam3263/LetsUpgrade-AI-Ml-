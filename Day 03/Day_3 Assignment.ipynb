{
 "cells": [
  {
   "cell_type": "markdown",
   "metadata": {},
   "source": [
    "#  Question_1 : WAP to Subtract two complex numbers in Python."
   ]
  },
  {
   "cell_type": "code",
   "execution_count": 11,
   "metadata": {
    "ExecuteTime": {
     "end_time": "2020-07-09T06:01:53.448114Z",
     "start_time": "2020-07-09T06:01:47.470290Z"
    }
   },
   "outputs": [
    {
     "name": "stdout",
     "output_type": "stream",
     "text": [
      "Enter real Number : 4\n",
      "Enter Imaginary Number : 5\n",
      "Enter real Number : 2\n",
      "Enter Imaginary Number : 3\n",
      "Subtraction of two complex numbers (4+5j) - (2+3j) : (2+2j)\n"
     ]
    }
   ],
   "source": [
    "x1 = int(input(\"Enter real Number : \"))\n",
    "x2 = int(input(\"Enter Imaginary Number : \"))\n",
    "x3 = int(input(\"Enter real Number : \"))\n",
    "x4 = int(input(\"Enter Imaginary Number : \"))\n",
    "\n",
    "z1 = complex(x1, x2)\n",
    "z2 = complex(x3, x4)\n",
    "sub = z1-z2\n",
    "print(\"Subtraction of two complex numbers {} - {} : {}\".format(z1, z2, sub))"
   ]
  },
  {
   "cell_type": "markdown",
   "metadata": {},
   "source": [
    "# Question_2 : Write a program to find the fourth root of a number."
   ]
  },
  {
   "cell_type": "code",
   "execution_count": 48,
   "metadata": {
    "ExecuteTime": {
     "end_time": "2020-07-09T07:11:45.278335Z",
     "start_time": "2020-07-09T07:11:45.262331Z"
    }
   },
   "outputs": [
    {
     "data": {
      "text/plain": [
       "2"
      ]
     },
     "execution_count": 48,
     "metadata": {},
     "output_type": "execute_result"
    }
   ],
   "source": [
    "def nth_root(val, n):\n",
    "    ret = int(val**(1/n))\n",
    "    return ret + 1 if (ret + 1) ** n == val else ret\n",
    "\n",
    "\n",
    "nth_root(16, 4)"
   ]
  },
  {
   "cell_type": "markdown",
   "metadata": {},
   "source": [
    "# Question_3 : Write a program to swap two numbers in Python with the help of a temporary variable."
   ]
  },
  {
   "cell_type": "code",
   "execution_count": 26,
   "metadata": {
    "ExecuteTime": {
     "end_time": "2020-07-09T06:22:18.819911Z",
     "start_time": "2020-07-09T06:22:13.853634Z"
    }
   },
   "outputs": [
    {
     "name": "stdout",
     "output_type": "stream",
     "text": [
      "Enter  a number :2\n",
      "Enter  a number :4\n",
      "Before Swap : a = 2 , b = 4\n",
      "After Swap  : a = 4 , b = 2\n"
     ]
    }
   ],
   "source": [
    "a = int(input(\"Enter  a number :\"))\n",
    "b = int(input(\"Enter  a number :\"))\n",
    "\n",
    "print(f\"Before Swap : a = {a} , b = {b}\")\n",
    "\n",
    "temp = a\n",
    "a = b\n",
    "b = temp\n",
    "\n",
    "print(f\"After Swap  : a = {a} , b = {b}\")"
   ]
  },
  {
   "cell_type": "markdown",
   "metadata": {},
   "source": [
    "# Question_4 : Write a program to swap two numbers in Python without using a temporary variable.\n"
   ]
  },
  {
   "cell_type": "code",
   "execution_count": 28,
   "metadata": {
    "ExecuteTime": {
     "end_time": "2020-07-09T06:23:35.896570Z",
     "start_time": "2020-07-09T06:23:31.516088Z"
    }
   },
   "outputs": [
    {
     "name": "stdout",
     "output_type": "stream",
     "text": [
      "Enter  a number :2\n",
      "Enter  a number :4\n",
      "Before Swap : a = 2 , b = 4\n",
      "After Swap  : a = 4 , b = 2\n"
     ]
    }
   ],
   "source": [
    "a = int(input(\"Enter  a number :\"))\n",
    "b = int(input(\"Enter  a number :\"))\n",
    "\n",
    "print(f\"Before Swap : a = {a} , b = {b}\")\n",
    "\n",
    "a, b = b, a\n",
    "\n",
    "print(f\"After Swap  : a = {a} , b = {b}\")"
   ]
  },
  {
   "cell_type": "markdown",
   "metadata": {},
   "source": [
    "# Question_5 :  Write a python program to convert fahrenheit to kelvin and celsius both."
   ]
  },
  {
   "cell_type": "code",
   "execution_count": 37,
   "metadata": {
    "ExecuteTime": {
     "end_time": "2020-07-09T06:33:18.491777Z",
     "start_time": "2020-07-09T06:33:00.184696Z"
    }
   },
   "outputs": [
    {
     "name": "stdout",
     "output_type": "stream",
     "text": [
      "Enter Fahrenheit : 1\n",
      "fahreiheit 1 --> kelvin 255.778 K\n",
      "Enter Fahrenheit : 1\n",
      "fahreiheit 1 --> Celcius -17.222 C\n"
     ]
    }
   ],
   "source": [
    "# 1.convert fahrenheit to kelvin\n",
    "f = int(input(\"Enter Fahrenheit : \"))\n",
    "k = 273 + ((f - 32.0) * (5/9))\n",
    "print(f\"fahreiheit {f} --> kelvin {k:.3f} K\")\n",
    "\n",
    "# 2.convert fahrenheit to kelvin\n",
    "f = int(input(\"Enter Fahrenheit : \"))\n",
    "c = ((f - 32.0) * 5) / 9\n",
    "print(f\"fahreiheit {f} --> Celcius {c:.3f} C\")"
   ]
  },
  {
   "cell_type": "markdown",
   "metadata": {},
   "source": [
    "# Question_6 :Write a program to demonstrate all the available data types in Python. Hint: Use type() function."
   ]
  },
  {
   "cell_type": "code",
   "execution_count": 47,
   "metadata": {
    "ExecuteTime": {
     "end_time": "2020-07-09T06:42:09.918468Z",
     "start_time": "2020-07-09T06:42:09.858953Z"
    }
   },
   "outputs": [
    {
     "data": {
      "text/plain": [
       "int"
      ]
     },
     "execution_count": 47,
     "metadata": {},
     "output_type": "execute_result"
    },
    {
     "data": {
      "text/plain": [
       "float"
      ]
     },
     "execution_count": 47,
     "metadata": {},
     "output_type": "execute_result"
    },
    {
     "data": {
      "text/plain": [
       "complex"
      ]
     },
     "execution_count": 47,
     "metadata": {},
     "output_type": "execute_result"
    },
    {
     "data": {
      "text/plain": [
       "str"
      ]
     },
     "execution_count": 47,
     "metadata": {},
     "output_type": "execute_result"
    },
    {
     "data": {
      "text/plain": [
       "list"
      ]
     },
     "execution_count": 47,
     "metadata": {},
     "output_type": "execute_result"
    },
    {
     "data": {
      "text/plain": [
       "bool"
      ]
     },
     "execution_count": 47,
     "metadata": {},
     "output_type": "execute_result"
    },
    {
     "data": {
      "text/plain": [
       "NoneType"
      ]
     },
     "execution_count": 47,
     "metadata": {},
     "output_type": "execute_result"
    },
    {
     "data": {
      "text/plain": [
       "tuple"
      ]
     },
     "execution_count": 47,
     "metadata": {},
     "output_type": "execute_result"
    },
    {
     "data": {
      "text/plain": [
       "dict"
      ]
     },
     "execution_count": 47,
     "metadata": {},
     "output_type": "execute_result"
    },
    {
     "data": {
      "text/plain": [
       "set"
      ]
     },
     "execution_count": 47,
     "metadata": {},
     "output_type": "execute_result"
    }
   ],
   "source": [
    "\n",
    "from IPython.core.interactiveshell import InteractiveShell\n",
    "InteractiveShell.ast_node_interactivity = \"all\"\n",
    "\n",
    "type(1)\n",
    "type(1.2)\n",
    "type(z1)  # Z1 value from above\n",
    "type('Lu')\n",
    "type([1, 2, 'hello'])\n",
    "type(True)\n",
    "type(None)\n",
    "type((1, 1.4, False))\n",
    "type({1: 'hello', 2: \"Python\"})\n",
    "type({5, 7, 'LU'})"
   ]
  },
  {
   "cell_type": "markdown",
   "metadata": {},
   "source": [
    "# Question_7  : Create a Markdown cell in jupyter and list the steps discussed in the session by Dr. Darshan Ingle sir to create Github profile and upload Githubs Assignment link. "
   ]
  },
  {
   "cell_type": "markdown",
   "metadata": {},
   "source": [
    "* 1. Create a account(Profile) in `GitHub`\n",
    "* 2. Make a New Repository Name it as a `LetsUpgrade AI-ML`, Make sure the repository that You created in `Public mode` not in Private\n",
    "* 3. Then Upload a folder of that particular day , that folder should have a assignment of that Day.\n",
    "* 4. Then Copy the link of that assignment , paste it in Assignment submission link.( Before submitting that link,check the link through the incognito Window)."
   ]
  }
 ],
 "metadata": {
  "hide_input": false,
  "kernelspec": {
   "display_name": "Python 3",
   "language": "python",
   "name": "python3"
  },
  "language_info": {
   "codemirror_mode": {
    "name": "ipython",
    "version": 3
   },
   "file_extension": ".py",
   "mimetype": "text/x-python",
   "name": "python",
   "nbconvert_exporter": "python",
   "pygments_lexer": "ipython3",
   "version": "3.8.1"
  },
  "toc": {
   "base_numbering": 1,
   "nav_menu": {},
   "number_sections": true,
   "sideBar": true,
   "skip_h1_title": false,
   "title_cell": "Table of Contents",
   "title_sidebar": "Contents",
   "toc_cell": false,
   "toc_position": {},
   "toc_section_display": true,
   "toc_window_display": false
  },
  "varInspector": {
   "cols": {
    "lenName": 16,
    "lenType": 16,
    "lenVar": 40
   },
   "kernels_config": {
    "python": {
     "delete_cmd_postfix": "",
     "delete_cmd_prefix": "del ",
     "library": "var_list.py",
     "varRefreshCmd": "print(var_dic_list())"
    },
    "r": {
     "delete_cmd_postfix": ") ",
     "delete_cmd_prefix": "rm(",
     "library": "var_list.r",
     "varRefreshCmd": "cat(var_dic_list()) "
    }
   },
   "types_to_exclude": [
    "module",
    "function",
    "builtin_function_or_method",
    "instance",
    "_Feature"
   ],
   "window_display": false
  }
 },
 "nbformat": 4,
 "nbformat_minor": 4
}
